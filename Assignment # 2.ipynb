{
 "cells": [
  {
   "cell_type": "code",
   "execution_count": 8,
   "metadata": {},
   "outputs": [
    {
     "name": "stdout",
     "output_type": "stream",
     "text": [
      "Enter marks of the first subject: 40\n",
      "Enter marks of the second subject: 50\n",
      "Enter marks of the third subject: 60\n",
      "Enter marks of the fourth subject: 70\n",
      "Enter marks of the fifth subject: 80\n",
      "Grade: F\n"
     ]
    }
   ],
   "source": [
    "a1=int(input(\"Enter marks of the first subject: \"))\n",
    "a2=int(input(\"Enter marks of the second subject: \"))\n",
    "a3=int(input(\"Enter marks of the third subject: \"))\n",
    "a4=int(input(\"Enter marks of the fourth subject: \"))\n",
    "a5=int(input(\"Enter marks of the fifth subject: \"))\n",
    "x=(a1+a2+a3+a4+a4)/5\n",
    "if(x>=90):\n",
    "    print(\"Grade: A\")\n",
    "elif(x>=80):\n",
    "    print(\"Grade: B\")\n",
    "elif(x>=70):\n",
    "    print(\"Grade: C\")\n",
    "elif(x>=60):\n",
    "    print(\"Grade: D\")\n",
    "else:\n",
    "    print(\"Grade: F\")"
   ]
  },
  {
   "cell_type": "code",
   "execution_count": 9,
   "metadata": {},
   "outputs": [
    {
     "name": "stdout",
     "output_type": "stream",
     "text": [
      "Enter a number: 5\n",
      "This is an odd number.\n"
     ]
    }
   ],
   "source": [
    "x = int(input(\"Enter a number: \"))\n",
    "y = x % 2\n",
    "if y > 0:\n",
    "    print(\"This is an odd number.\")\n",
    "else:\n",
    "    print(\"This is an even number.\")"
   ]
  },
  {
   "cell_type": "code",
   "execution_count": 12,
   "metadata": {},
   "outputs": [
    {
     "name": "stdout",
     "output_type": "stream",
     "text": [
      "The list is : [1, 4, 5, 7, 8]\n",
      "Length of list is : 5\n"
     ]
    }
   ],
   "source": [
    "test_list = [ 1, 4, 5, 7, 8 ]\n",
    "count = 0\n",
    "for i in test_list: \n",
    "    count = count + 1\n",
    "print (\"The list is : \" + str(test_list))\n",
    "print (\"Length of list is : \" + str(count))"
   ]
  },
  {
   "cell_type": "code",
   "execution_count": 13,
   "metadata": {},
   "outputs": [
    {
     "name": "stdout",
     "output_type": "stream",
     "text": [
      "-5\n"
     ]
    }
   ],
   "source": [
    "def sum_list(items):\n",
    "    sum_numbers = 0\n",
    "    for x in items:\n",
    "        sum_numbers += x\n",
    "    return sum_numbers\n",
    "print(sum_list([1,2,-8]))"
   ]
  },
  {
   "cell_type": "code",
   "execution_count": 28,
   "metadata": {},
   "outputs": [
    {
     "name": "stdout",
     "output_type": "stream",
     "text": [
      "Largest element is: 89\n"
     ]
    }
   ],
   "source": [
    "lst = [10, 20, 89, 45, 32] \n",
    "print(\"Largest element is:\", max(lst))"
   ]
  },
  {
   "cell_type": "code",
   "execution_count": 45,
   "metadata": {},
   "outputs": [
    {
     "name": "stdout",
     "output_type": "stream",
     "text": [
      "[1, 1, 2, 3]\n"
     ]
    }
   ],
   "source": [
    "a = [1, 1, 2, 3, 5, 8, 13, 21, 34, 55, 89]\n",
    "n = []\n",
    "for i in a:\n",
    "    if i < 5:\n",
    "        n.append(i)\n",
    "print(n)"
   ]
  },
  {
   "cell_type": "code",
   "execution_count": null,
   "metadata": {},
   "outputs": [],
   "source": []
  }
 ],
 "metadata": {
  "kernelspec": {
   "display_name": "Python 3",
   "language": "python",
   "name": "python3"
  },
  "language_info": {
   "codemirror_mode": {
    "name": "ipython",
    "version": 3
   },
   "file_extension": ".py",
   "mimetype": "text/x-python",
   "name": "python",
   "nbconvert_exporter": "python",
   "pygments_lexer": "ipython3",
   "version": "3.7.4"
  }
 },
 "nbformat": 4,
 "nbformat_minor": 2
}
